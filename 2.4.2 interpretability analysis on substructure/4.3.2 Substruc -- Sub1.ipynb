{
 "cells": [
  {
   "cell_type": "code",
   "execution_count": 1,
   "id": "cc44cd6d",
   "metadata": {},
   "outputs": [],
   "source": [
    "import argparse\n",
    "import os\n",
    "import random\n",
    "import time\n",
    "from collections import defaultdict\n",
    "\n",
    "import numpy as np\n",
    "import pandas as pd\n",
    "import torch\n",
    "import torch.nn.functional as F\n",
    "from dgl.dataloading import GraphDataLoader\n",
    "from sklearn.metrics import mean_absolute_error, mean_squared_error\n",
    "\n",
    "import sys\n",
    "sys.path.append(\"/home/yujie/AIcode/\")\n",
    "from Dataloader.dataloader import collate_fn, LeadOptDataset, LeadOptDataset_test\n",
    "from ReadoutModel.readout_bind import DMPNN\n",
    "from utilis.function import get_loss_func\n",
    "from utilis.initial import initialize_weights\n",
    "from utilis.scalar import StandardScaler\n",
    "from utilis.scheduler import NoamLR_shan\n",
    "from utilis.trick import Writer\n",
    "from utilis.utilis import gm_process\n"
   ]
  },
  {
   "cell_type": "code",
   "execution_count": 2,
   "id": "a27b2417",
   "metadata": {},
   "outputs": [],
   "source": [
    "import torch.nn.functional as F"
   ]
  },
  {
   "cell_type": "code",
   "execution_count": 3,
   "id": "8860f0d7",
   "metadata": {},
   "outputs": [],
   "source": [
    "model = torch.load(\"/home/yujie/leadopt/result_final/xiaorongshiyan_kejieshixing/model_11_115000_1.pth\",map_location=\"cpu\")\n",
    "# model.to('cuda:1')"
   ]
  },
  {
   "cell_type": "code",
   "execution_count": 4,
   "id": "dd4bb395",
   "metadata": {},
   "outputs": [],
   "source": [
    "import rdkit\n",
    "from rdkit import Chem\n",
    "from rdkit.Chem import AllChem\n",
    "from rdkit.Chem import Draw\n",
    "from rdkit.Chem import BRICS\n",
    "# from rdkit.Chem.Draw import IPythonConsole #Needed to show molecules\n",
    "from rdkit.Chem.Draw.MolDrawing import MolDrawing, DrawingOptions #Only needed if modifying defaults\n",
    "from rdkit.Chem.Draw import rdMolDraw2D\n",
    "from IPython.display import Image\n",
    "\n",
    "import copy\n",
    "from rdkit.Chem import rdDepictor\n",
    "from rdkit.Chem.Draw import rdMolDraw2D\n",
    "from IPython.display import SVG\n",
    "from IPython.display import display\n",
    "import matplotlib\n",
    "import matplotlib.cm as cm"
   ]
  },
  {
   "cell_type": "code",
   "execution_count": 5,
   "id": "fd539d32",
   "metadata": {},
   "outputs": [],
   "source": [
    "def brics_decomp(mol):\n",
    "    n_atoms = mol.GetNumAtoms()\n",
    "    if n_atoms == 1:\n",
    "        return [[0]], []\n",
    "\n",
    "    cliques = []\n",
    "    breaks = []\n",
    "    for bond in mol.GetBonds():\n",
    "        a1 = bond.GetBeginAtom().GetIdx()\n",
    "        a2 = bond.GetEndAtom().GetIdx()\n",
    "        cliques.append([a1, a2])\n",
    "\n",
    "    res = list(BRICS.FindBRICSBonds(mol))\n",
    "    if len(res) == 0:\n",
    "        return [list(range(n_atoms))], []\n",
    "    else:\n",
    "        for bond in res:\n",
    "            if [bond[0][0], bond[0][1]] in cliques:\n",
    "                cliques.remove([bond[0][0], bond[0][1]])\n",
    "            else:\n",
    "                cliques.remove([bond[0][1], bond[0][0]])\n",
    "            cliques.append([bond[0][0]])\n",
    "            cliques.append([bond[0][1]])\n",
    "\n",
    "    # merge cliques\n",
    "    for c in range(len(cliques) - 1):\n",
    "        if c >= len(cliques):\n",
    "            break\n",
    "        for k in range(c + 1, len(cliques)):\n",
    "            if k >= len(cliques):\n",
    "                break\n",
    "            if len(set(cliques[c]) & set(cliques[k])) > 0:\n",
    "                cliques[c] = list(set(cliques[c]) | set(cliques[k]))\n",
    "                cliques[k] = []\n",
    "        cliques = [c for c in cliques if len(c) > 0]\n",
    "    cliques = [c for c in cliques if len(c) > 0]\n",
    "\n",
    "    # edges\n",
    "    edges = []\n",
    "    for bond in res:\n",
    "        for c in range(len(cliques)):\n",
    "            if bond[0][0] in cliques[c]:\n",
    "                c1 = c\n",
    "            if bond[0][1] in cliques[c]:\n",
    "                c2 = c\n",
    "        edges.append((c1, c2))\n",
    "    for bond in breaks:\n",
    "        for c in range(len(cliques)):\n",
    "            if bond[0] in cliques[c]:\n",
    "                c1 = c\n",
    "            if bond[1] in cliques[c]:\n",
    "                c2 = c\n",
    "        edges.append((c1, c2))\n",
    "\n",
    "    return cliques, edges"
   ]
  },
  {
   "cell_type": "code",
   "execution_count": null,
   "id": "d7c2bb3f",
   "metadata": {},
   "outputs": [],
   "source": []
  },
  {
   "cell_type": "code",
   "execution_count": null,
   "id": "c0a5d32b",
   "metadata": {},
   "outputs": [],
   "source": []
  },
  {
   "cell_type": "code",
   "execution_count": null,
   "id": "fde47efa",
   "metadata": {},
   "outputs": [],
   "source": []
  },
  {
   "cell_type": "code",
   "execution_count": null,
   "id": "1cbc2e62",
   "metadata": {},
   "outputs": [],
   "source": []
  },
  {
   "cell_type": "code",
   "execution_count": 6,
   "id": "0466250e",
   "metadata": {},
   "outputs": [],
   "source": [
    "# define dataloader and collec function\n",
    "import dgl\n",
    "\n",
    "from utilis.utilis import Extend, pkl_load\n",
    "\n",
    "\n",
    "\n",
    "def collate_fn(samples):\n",
    "\n",
    "    ligand1_dir = [s.Ligand1.values[0] for s in samples]\n",
    "    ligand2_dir = [s.Ligand2.values[0] for s in samples]\n",
    "    pocket_dir = [s.Ligand2.values[0].rsplit(\"/\", 1)[0] + \"/pocket.pkl\" for s in samples]\n",
    "    graph1_list = [pkl_load(s) for s in ligand1_dir]\n",
    "    graph2_list = [pkl_load(s) for s in ligand2_dir]\n",
    "    pocket_list = [pkl_load(s) for s in pocket_dir]\n",
    "    \n",
    "#     idx_ = 4\n",
    "#     graph2_list[0].ndata['atom_feature'][bri[idx_]] = torch.zeros(graph2_list[0].ndata['atom_feature'][bri[idx_]].size())\n",
    "\n",
    "    g1 = dgl.batch(graph1_list)\n",
    "    g2 = dgl.batch(graph2_list)\n",
    "    pock = dgl.batch(pocket_list)\n",
    "    # index_kj1, index_ji1 = triplets(g1)\n",
    "    # index_kj2, index_ji2 = triplets(g2)\n",
    "\n",
    "    label_list = [s.Lable.values[0] for s in samples]  # delta\n",
    "    label1_list = [s.Lable1.values[0] for s in samples]  # validation samples' labels\n",
    "    label2_list = [s.Lable2.values[0] for s in samples]  # referance train samples' labels\n",
    "\n",
    "    rank1_list = [s.Rank1.values[0] for s in samples]  # 用于识别pair属于哪一个validation sample\n",
    "    file_name = [s.rsplit(\"/\", 2)[1] for s in ligand1_dir]\n",
    "\n",
    "    return g1, \\\n",
    "           g2, \\\n",
    "           pock, \\\n",
    "           torch.tensor(label_list), \\\n",
    "           torch.tensor(label1_list), \\\n",
    "           torch.tensor(label2_list), \\\n",
    "           torch.tensor(rank1_list), \\\n",
    "           file_name\n",
    "\n",
    "\n",
    "class LeadOptDataset():\n",
    "    def __init__(self, df_path, label_scalar=None):\n",
    "        self.df_path = df_path\n",
    "        self.df = pd.read_csv(self.df_path)\n",
    "        self.label_scalar = label_scalar\n",
    "\n",
    "        if self.label_scalar == \"finetune\":\n",
    "            label = self.df.Lable.values\n",
    "            label = (np.array(label).astype(float) - 0.04191832) / 1.34086546\n",
    "            self.df[\"Lable\"] = label\n",
    "\n",
    "        elif self.label_scalar is not None:\n",
    "            label = self.df.Lable.values\n",
    "            label = np.reshape(label, (-1, 1))\n",
    "            self.label_scalar = self.label_scalar.fit(label)\n",
    "            label = self.label_scalar.transform(label)\n",
    "            self.df[\"Lable\"] = label.flatten()\n",
    "\n",
    "        self.df = self.df[0:1]\n",
    "        print(self.df.Ligand1.values)\n",
    "        print(self.df.Ligand2.values)\n",
    "        super(LeadOptDataset, self).__init__()\n",
    "\n",
    "            \n",
    "    def file_names_(self):\n",
    "        ligand_dir = self.df.Ligand1.values\n",
    "        file_names = [s.rsplit(\"/\", 2)[1] for s in ligand_dir]\n",
    "        return list(set(file_names))\n",
    "\n",
    "        \n",
    "    def __getitem__(self, idx):\n",
    "        return self.df[idx:idx + 1]\n",
    "\n",
    "    def __len__(self):\n",
    "        return len(self.df)"
   ]
  },
  {
   "cell_type": "code",
   "execution_count": 7,
   "id": "1e475159",
   "metadata": {},
   "outputs": [],
   "source": [
    "file_name = \"Thrombin\""
   ]
  },
  {
   "cell_type": "code",
   "execution_count": 8,
   "id": "83816634",
   "metadata": {},
   "outputs": [
    {
     "name": "stdout",
     "output_type": "stream",
     "text": [
      "['/home/yujie/leadopt/data/test_set_fep_graph_rmH_I/Thrombin/Thrombin_1a.pkl']\n",
      "['/home/yujie/leadopt/data/test_set_fep_graph_rmH_I/Thrombin/Thrombin_6a.pkl']\n"
     ]
    }
   ],
   "source": [
    "test_dataset = LeadOptDataset(f\"/home/yujie/data_for_fep_for_att/test_set_fep_graph_rmH_/resutls/0_reference/train_files/{file_name}.csv\")\n",
    "test_dataloader = GraphDataLoader(test_dataset, collate_fn=collate_fn, batch_size=1,\n",
    "                                           drop_last=False, shuffle=False)"
   ]
  },
  {
   "cell_type": "code",
   "execution_count": 9,
   "id": "b3d33af6",
   "metadata": {},
   "outputs": [],
   "source": [
    "name = \"Thrombin_6a\""
   ]
  },
  {
   "cell_type": "code",
   "execution_count": 10,
   "id": "538d0416",
   "metadata": {},
   "outputs": [],
   "source": [
    "ligand1_dir = [f'/home/yujie/leadopt/data/test_set_fep_graph_rmH_I/{file_name}/Thrombin_1a.pkl']\n",
    "ligand2_dir = [f'/home/yujie/leadopt/data/test_set_fep_graph_rmH_I/{file_name}/{name}.pkl']\n",
    "\n",
    "graph1_list = [pkl_load(s) for s in ligand1_dir]\n",
    "graph2_list = [pkl_load(s) for s in ligand2_dir]"
   ]
  },
  {
   "cell_type": "code",
   "execution_count": 11,
   "id": "63169a73",
   "metadata": {},
   "outputs": [],
   "source": [
    "# @torch.no_grad()\n",
    "# def predict(args, model, loader, device):\n",
    "#     model.eval()\n",
    "\n",
    "#     # if args.loss_function == 'mve':\n",
    "#     #     uncertainty = []\n",
    "#     # elif args.loss_function == \"evidential\":\n",
    "#     #     uncertainty = []\n",
    "\n",
    "#     valid_prediction = []\n",
    "#     valid_labels = []\n",
    "#     valid_1_labels = []\n",
    "#     ref_2_labels = []\n",
    "#     rank = []\n",
    "#     file = []\n",
    "\n",
    "#     att__1 = []\n",
    "#     att__2 = []\n",
    "device = \"cuda:1\"\n",
    "model.eval()\n",
    "for batch_data in test_dataloader:\n",
    "\n",
    "    graph1, graph2, pock, label, label1, label2, rank1, _ = batch_data\n",
    "\n",
    "#     graph1, graph2, pock, label, label1, label2 = graph1.to(device), graph2.to(device), pock.to(device), label.to(device), label1.to(\n",
    "#                 device), label2.to(device)\n",
    "    logits,_,att1,att2,a1,a2 = model(graph1,\n",
    "                   graph2, pock)\n"
   ]
  },
  {
   "cell_type": "code",
   "execution_count": 12,
   "id": "ade54225",
   "metadata": {},
   "outputs": [
    {
     "data": {
      "text/plain": [
       "tensor([[0.6090]], grad_fn=<AddmmBackward0>)"
      ]
     },
     "execution_count": 12,
     "metadata": {},
     "output_type": "execute_result"
    }
   ],
   "source": [
    "logits"
   ]
  },
  {
   "cell_type": "code",
   "execution_count": null,
   "id": "2fa4adbe",
   "metadata": {},
   "outputs": [],
   "source": []
  }
 ],
 "metadata": {
  "kernelspec": {
   "display_name": "Python 3",
   "language": "python",
   "name": "python3"
  },
  "language_info": {
   "codemirror_mode": {
    "name": "ipython",
    "version": 3
   },
   "file_extension": ".py",
   "mimetype": "text/x-python",
   "name": "python",
   "nbconvert_exporter": "python",
   "pygments_lexer": "ipython3",
   "version": "3.8.8"
  }
 },
 "nbformat": 4,
 "nbformat_minor": 5
}
