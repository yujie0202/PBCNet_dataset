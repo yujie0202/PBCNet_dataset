{
 "cells": [
  {
   "cell_type": "code",
   "execution_count": 1,
   "id": "cc44cd6d",
   "metadata": {},
   "outputs": [],
   "source": [
    "import os\n",
    "code_path = os.path.dirname(os.path.abspath(\".\")).rsplit(\"/\",1)[0]\n",
    "import sys\n",
    "sys.path.append(code_path + '/model_code')\n",
    "\n",
    "import numpy as np\n",
    "import pandas as pd\n",
    "import torch\n",
    "from dgl.dataloading import GraphDataLoader\n",
    "from Dataloader.dataloader import LeadOptDataset\n",
    "from utilis.Interaction_atoms import GetAtomPairAndType,read_mol2_file_withoutH,read_mol2_file_H\n",
    "from utilis.utilis import pkl_load\n"
   ]
  },
  {
   "cell_type": "code",
   "execution_count": 2,
   "id": "fc8c06f0",
   "metadata": {},
   "outputs": [
    {
     "data": {
      "text/plain": [
       "'/home/yujie/code230118'"
      ]
     },
     "execution_count": 2,
     "metadata": {},
     "output_type": "execute_result"
    }
   ],
   "source": [
    "code_path"
   ]
  },
  {
   "cell_type": "code",
   "execution_count": 3,
   "id": "d2c694ac",
   "metadata": {},
   "outputs": [],
   "source": [
    "ligand1_dir =f\"{code_path}/data/test_set_fep_graph_rmH_I/Thrombin/Thrombin_6a.pkl\"\n",
    "ligand2_dir =f\"{code_path}/data/test_set_fep_graph_rmH_I/Thrombin/Thrombin_6a.pkl\"\n",
    "pocket_dir = f\"{code_path}/data/test_set_fep_graph_rmH_I/Thrombin/pocket.pkl\"\n",
    "\n",
    "graph1 = pkl_load(ligand1_dir)\n",
    "graph2 = pkl_load(ligand2_dir)\n",
    "pock = pkl_load(pocket_dir)"
   ]
  },
  {
   "cell_type": "code",
   "execution_count": 4,
   "id": "c1501a35",
   "metadata": {},
   "outputs": [],
   "source": [
    "model = torch.load(f\"{code_path}/PBCNet.pth\",map_location=\"cpu\")\n"
   ]
  },
  {
   "cell_type": "code",
   "execution_count": 5,
   "id": "1fe49509",
   "metadata": {},
   "outputs": [],
   "source": [
    "logits,_,att1,att2 = model(graph1,graph2, pock)\n"
   ]
  },
  {
   "cell_type": "code",
   "execution_count": 6,
   "id": "22ee6bd8",
   "metadata": {},
   "outputs": [
    {
     "data": {
      "text/plain": [
       "torch.Size([1886, 1])"
      ]
     },
     "execution_count": 6,
     "metadata": {},
     "output_type": "execute_result"
    }
   ],
   "source": [
    "att2_processed = att1.mean(dim=1)\n",
    "att2_processed.shape"
   ]
  },
  {
   "cell_type": "code",
   "execution_count": 7,
   "id": "eb866a51",
   "metadata": {},
   "outputs": [
    {
     "data": {
      "text/plain": [
       "torch.Size([1886, 1])"
      ]
     },
     "execution_count": 7,
     "metadata": {},
     "output_type": "execute_result"
    }
   ],
   "source": [
    "graph1.edata[\"attention_weight\"].shape"
   ]
  },
  {
   "cell_type": "code",
   "execution_count": 8,
   "id": "8ebf2d75",
   "metadata": {},
   "outputs": [
    {
     "data": {
      "text/plain": [
       "30"
      ]
     },
     "execution_count": 8,
     "metadata": {},
     "output_type": "execute_result"
    }
   ],
   "source": [
    "graph1.num_nodes()"
   ]
  },
  {
   "cell_type": "code",
   "execution_count": 9,
   "id": "6d7b00cc",
   "metadata": {},
   "outputs": [],
   "source": [
    "ligand1_dir =f\"{code_path}/data/test_set_fep_graph_rmH_I/Thrombin/Thrombin_6a.pkl\"\n",
    "ligand2_dir =f\"{code_path}/data/test_set_fep_graph_rmH_I/Thrombin/Thrombin_6a.pkl\"\n",
    "pocket_dir = f\"{code_path}/data/test_set_fep_graph_rmH_I/Thrombin/pocket.pkl\"\n",
    "\n",
    "graph1 = pkl_load(ligand1_dir)\n",
    "graph2 = pkl_load(ligand2_dir)\n",
    "pock = pkl_load(pocket_dir)"
   ]
  },
  {
   "cell_type": "code",
   "execution_count": 10,
   "id": "956c6f72",
   "metadata": {},
   "outputs": [
    {
     "data": {
      "text/plain": [
       "486"
      ]
     },
     "execution_count": 10,
     "metadata": {},
     "output_type": "execute_result"
    }
   ],
   "source": [
    "graph1.num_nodes()"
   ]
  },
  {
   "cell_type": "code",
   "execution_count": 11,
   "id": "28e4f943",
   "metadata": {
    "scrolled": false
   },
   "outputs": [
    {
     "data": {
      "text/plain": [
       "([[8, 'SER214O'],\n",
       "  [10, 'GLY216O'],\n",
       "  [3, 'GLY216H'],\n",
       "  [14, 'TRP215CD2'],\n",
       "  [14, 'TRP215CG'],\n",
       "  [9, 'TYR60ACE1'],\n",
       "  [9, 'TYR60ACE2'],\n",
       "  [6, 'TRP60DCZ3'],\n",
       "  [6, 'TRP60DCH2'],\n",
       "  [9, 'TRP60DCH2'],\n",
       "  [18, 'LEU99CD1'],\n",
       "  [20, 'LEU99CD1'],\n",
       "  [6, 'LEU99CD2'],\n",
       "  [9, 'LEU99CD2'],\n",
       "  [14, 'ILE174CD1'],\n",
       "  [16, 'ILE174CD1'],\n",
       "  [21, 'ALA190CB'],\n",
       "  [23, 'ALA190CB'],\n",
       "  [27, 'ALA190CB'],\n",
       "  [23, 'VAL213CG1'],\n",
       "  [25, 'VAL213CG1'],\n",
       "  [27, 'VAL213CG1'],\n",
       "  [16, 'TRP215CB'],\n",
       "  [16, 'TRP215CG'],\n",
       "  [18, 'TRP215CG'],\n",
       "  [16, 'TRP215CD2'],\n",
       "  [16, 'TRP215CE3']],\n",
       " ['Hbond',\n",
       "  'Hbond',\n",
       "  'Hbond',\n",
       "  'PiPi',\n",
       "  'PiPi',\n",
       "  'HPhob',\n",
       "  'HPhob',\n",
       "  'HPhob',\n",
       "  'HPhob',\n",
       "  'HPhob',\n",
       "  'HPhob',\n",
       "  'HPhob',\n",
       "  'HPhob',\n",
       "  'HPhob',\n",
       "  'HPhob',\n",
       "  'HPhob',\n",
       "  'HPhob',\n",
       "  'HPhob',\n",
       "  'HPhob',\n",
       "  'HPhob',\n",
       "  'HPhob',\n",
       "  'HPhob',\n",
       "  'HPhob',\n",
       "  'HPhob',\n",
       "  'HPhob',\n",
       "  'HPhob',\n",
       "  'HPhob'])"
      ]
     },
     "execution_count": 11,
     "metadata": {},
     "output_type": "execute_result"
    }
   ],
   "source": [
    "GetAtomPairAndType(f\"{code_path}/data/FEP1/Thrombin/Thrombin_6a.sdf\")"
   ]
  },
  {
   "cell_type": "code",
   "execution_count": 12,
   "id": "fce27b4d",
   "metadata": {},
   "outputs": [],
   "source": [
    "mol2_file_pock = read_mol2_file_withoutH(f\"{code_path}/data/FEP1/Thrombin/pocket.mol2\")"
   ]
  },
  {
   "cell_type": "code",
   "execution_count": null,
   "id": "a9a8ff9a",
   "metadata": {},
   "outputs": [],
   "source": []
  },
  {
   "cell_type": "markdown",
   "id": "48063723",
   "metadata": {},
   "source": [
    "# 8-position"
   ]
  },
  {
   "cell_type": "code",
   "execution_count": 13,
   "id": "6311af9d",
   "metadata": {},
   "outputs": [
    {
     "data": {
      "text/plain": [
       "(tensor([  4,  12,  63,  64,  65, 340, 341, 367, 368, 371, 372, 373, 375, 385,\n",
       "         473]),\n",
       " tensor([8, 8, 8, 8, 8, 8, 8, 8, 8, 8, 8, 8, 8, 8, 8]),\n",
       " tensor([  16,   25, 1132, 1142, 1154, 1456, 1464, 1512, 1534, 1546, 1570, 1594,\n",
       "         1642, 1716, 1862]))"
      ]
     },
     "execution_count": 13,
     "metadata": {},
     "output_type": "execute_result"
    }
   ],
   "source": [
    "graph1.in_edges(8, form='all')"
   ]
  },
  {
   "cell_type": "code",
   "execution_count": 14,
   "id": "bbdbf482",
   "metadata": {},
   "outputs": [
    {
     "data": {
      "text/plain": [
       "tensor([-26, -18,  33,  34,  35, 310, 311, 337, 338, 341, 342, 343, 345, 355,\n",
       "        443])"
      ]
     },
     "execution_count": 14,
     "metadata": {},
     "output_type": "execute_result"
    }
   ],
   "source": [
    "graph1.in_edges(8,form='all')[0]-30"
   ]
  },
  {
   "cell_type": "code",
   "execution_count": 15,
   "id": "d5dcf5a4",
   "metadata": {},
   "outputs": [
    {
     "data": {
      "text/plain": [
       "15"
      ]
     },
     "execution_count": 15,
     "metadata": {},
     "output_type": "execute_result"
    }
   ],
   "source": [
    "len(graph1.in_edges(8,form='all')[0]-30)"
   ]
  },
  {
   "cell_type": "code",
   "execution_count": 16,
   "id": "4c0ff4db",
   "metadata": {},
   "outputs": [
    {
     "data": {
      "text/plain": [
       "array([['787', 'CB', '15.7170', '-7.9730', '28.6310', 'C.3', '53',\n",
       "        'PHE227', '0.0000', 'DICT'],\n",
       "       ['804', 'CA', '15.1530', '-3.6090', '27.0900', 'C.3', '54',\n",
       "        'TYR228', '0.0000', 'BACKBONE|DICT|DIRECT'],\n",
       "       ['65', 'CD2', '19.1140', '-8.9800', '18.3870', 'C.2', '5',\n",
       "        'HIS57', '0.0000', 'DICT'],\n",
       "       ['66', 'CE1', '18.2050', '-7.3630', '19.5340', 'C.2', '5',\n",
       "        'HIS57', '0.0000', 'DICT'],\n",
       "       ['67', 'NE2', '17.9130', '-8.4380', '18.8090', 'N.2', '5',\n",
       "        'HIS57', '0.0000', 'DICT'],\n",
       "       ['589', 'CB', '15.0710', '-7.4200', '17.4410', 'C.3', '38',\n",
       "        'SER195', '0.0000', 'DICT'],\n",
       "       ['590', 'OG', '15.0170', '-8.5450', '18.2950', 'O.3', '38',\n",
       "        'SER195', '0.0000', 'DICT'],\n",
       "       ['647', 'C', '16.8910', '-7.8420', '23.2850', 'C.2', '43',\n",
       "        'SER214', '0.0000', 'BACKBONE|DICT|DIRECT'],\n",
       "       ['648', 'O', '17.4350', '-8.3620', '22.3110', 'O.2', '43',\n",
       "        'SER214', '0.0000', 'BACKBONE|DICT|DIRECT'],\n",
       "       ['656', 'N', '16.2040', '-8.5340', '24.2100', 'N.am', '44',\n",
       "        'TRP215', '0.0000', 'BACKBONE|DICT|DIRECT'],\n",
       "       ['657', 'CA', '16.0580', '-9.9940', '24.1870', 'C.3', '44',\n",
       "        'TRP215', '0.0000', 'BACKBONE|DICT|DIRECT'],\n",
       "       ['658', 'C', '14.8900', '-10.4570', '25.0670', 'C.2', '44',\n",
       "        'TRP215', '0.0000', 'BACKBONE|DICT|DIRECT'],\n",
       "       ['660', 'CB', '17.3830', '-10.6920', '24.5860', 'C.3', '44',\n",
       "        'TRP215', '0.0000', 'DICT'],\n",
       "       ['680', 'N', '14.4810', '-11.7160', '24.8690', 'N.am', '45',\n",
       "        'GLY216', '0.0000', 'BACKBONE|DICT|DIRECT']], dtype='<U20')"
      ]
     },
     "execution_count": 16,
     "metadata": {},
     "output_type": "execute_result"
    }
   ],
   "source": [
    "mol2_file_pock[[-26, -18, 33,  34,  35, 310, 311, 337, 338, 341, 342, 343, 345,\n",
    "        355]]"
   ]
  },
  {
   "cell_type": "code",
   "execution_count": 17,
   "id": "b471a51e",
   "metadata": {
    "scrolled": true
   },
   "outputs": [
    {
     "data": {
      "text/plain": [
       "tensor([[0.1071],\n",
       "        [0.1059],\n",
       "        [0.0493],\n",
       "        [0.0565],\n",
       "        [0.0472],\n",
       "        [0.0616],\n",
       "        [0.0372],\n",
       "        [0.0714],\n",
       "        [0.0764],\n",
       "        [0.0790],\n",
       "        [0.0570],\n",
       "        [0.0435],\n",
       "        [0.0497],\n",
       "        [0.0839],\n",
       "        [0.0743]], grad_fn=<IndexBackward0>)"
      ]
     },
     "execution_count": 17,
     "metadata": {},
     "output_type": "execute_result"
    }
   ],
   "source": [
    "att2_processed[graph1.in_edges(8, form='all')[2]]"
   ]
  },
  {
   "cell_type": "code",
   "execution_count": 18,
   "id": "e4ff99db",
   "metadata": {},
   "outputs": [
    {
     "data": {
      "text/plain": [
       "15"
      ]
     },
     "execution_count": 18,
     "metadata": {},
     "output_type": "execute_result"
    }
   ],
   "source": [
    "len(att2_processed[graph1.in_edges(8, form='all')[2]])"
   ]
  },
  {
   "cell_type": "code",
   "execution_count": null,
   "id": "926b3f0e",
   "metadata": {},
   "outputs": [],
   "source": []
  },
  {
   "cell_type": "markdown",
   "id": "88818da5",
   "metadata": {},
   "source": [
    "# 10-position"
   ]
  },
  {
   "cell_type": "code",
   "execution_count": 19,
   "id": "3c8c2d28",
   "metadata": {},
   "outputs": [
    {
     "data": {
      "text/plain": [
       "(tensor([  7, 385, 387, 388, 389, 390, 398]),\n",
       " tensor([10, 10, 10, 10, 10, 10, 10]),\n",
       " tensor([  20, 1718, 1766, 1784, 1800, 1802, 1806]))"
      ]
     },
     "execution_count": 19,
     "metadata": {},
     "output_type": "execute_result"
    }
   ],
   "source": [
    "graph1.in_edges(10, form='all')"
   ]
  },
  {
   "cell_type": "code",
   "execution_count": 20,
   "id": "8342b678",
   "metadata": {},
   "outputs": [
    {
     "data": {
      "text/plain": [
       "tensor([-23, 355, 357, 358, 359, 360, 368])"
      ]
     },
     "execution_count": 20,
     "metadata": {},
     "output_type": "execute_result"
    }
   ],
   "source": [
    "graph1.in_edges(10,form='all')[0]-30"
   ]
  },
  {
   "cell_type": "code",
   "execution_count": 21,
   "id": "761c407e",
   "metadata": {},
   "outputs": [
    {
     "data": {
      "text/plain": [
       "array([['790', 'CD2', '16.1340', '-8.2190', '31.1190', 'C.ar', '53',\n",
       "        'PHE227', '0.0000', 'DICT'],\n",
       "       ['680', 'N', '14.4810', '-11.7160', '24.8690', 'N.am', '45',\n",
       "        'GLY216', '0.0000', 'BACKBONE|DICT|DIRECT'],\n",
       "       ['682', 'C', '13.6710', '-13.9000', '25.5000', 'C.2', '45',\n",
       "        'GLY216', '0.0000', 'BACKBONE|DICT|DIRECT'],\n",
       "       ['683', 'O', '14.0550', '-14.3510', '24.4180', 'O.2', '45',\n",
       "        'GLY216', '0.0000', 'BACKBONE|DICT|DIRECT'],\n",
       "       ['687', 'N', '13.3560', '-14.6790', '26.5470', 'N.am', '46',\n",
       "        'GLU217', '0.0000', 'BACKBONE|DICT|DIRECT'],\n",
       "       ['688', 'CA', '13.3350', '-16.1430', '26.5250', 'C.3', '46',\n",
       "        'GLU217', '0.0000', 'BACKBONE|DICT|DIRECT'],\n",
       "       ['702', 'N', '11.8100', '-16.7300', '24.7240', 'N.am', '47',\n",
       "        'GLY219', '0.0000', 'BACKBONE|DICT|DIRECT']], dtype='<U20')"
      ]
     },
     "execution_count": 21,
     "metadata": {},
     "output_type": "execute_result"
    }
   ],
   "source": [
    "mol2_file_pock[[-23, 355, 357, 358, 359, 360, 368]]"
   ]
  },
  {
   "cell_type": "code",
   "execution_count": 22,
   "id": "5bcae1cd",
   "metadata": {},
   "outputs": [
    {
     "data": {
      "text/plain": [
       "tensor([[0.2415],\n",
       "        [0.1149],\n",
       "        [0.0856],\n",
       "        [0.2349],\n",
       "        [0.1160],\n",
       "        [0.0900],\n",
       "        [0.1172]], grad_fn=<IndexBackward0>)"
      ]
     },
     "execution_count": 22,
     "metadata": {},
     "output_type": "execute_result"
    }
   ],
   "source": [
    "att2_processed[graph1.in_edges(10, form='all')[2]]"
   ]
  },
  {
   "cell_type": "code",
   "execution_count": null,
   "id": "800d90dd",
   "metadata": {},
   "outputs": [],
   "source": []
  },
  {
   "cell_type": "markdown",
   "id": "3eceff3d",
   "metadata": {},
   "source": [
    "# 3-position"
   ]
  },
  {
   "cell_type": "code",
   "execution_count": 23,
   "id": "f4644606",
   "metadata": {},
   "outputs": [
    {
     "data": {
      "text/plain": [
       "(tensor([  2, 368, 371, 372, 373, 374, 375, 376, 378, 381, 385, 386, 387, 388,\n",
       "         389]),\n",
       " tensor([3, 3, 3, 3, 3, 3, 3, 3, 3, 3, 3, 3, 3, 3, 3]),\n",
       " tensor([  10, 1528, 1544, 1566, 1592, 1614, 1636, 1660, 1676, 1696, 1710, 1742,\n",
       "         1762, 1780, 1798]))"
      ]
     },
     "execution_count": 23,
     "metadata": {},
     "output_type": "execute_result"
    }
   ],
   "source": [
    "graph1.in_edges(3, form='all')"
   ]
  },
  {
   "cell_type": "code",
   "execution_count": 24,
   "id": "5ae30251",
   "metadata": {},
   "outputs": [
    {
     "data": {
      "text/plain": [
       "tensor([-28, 338, 341, 342, 343, 344, 345, 346, 348, 351, 355, 356, 357, 358,\n",
       "        359])"
      ]
     },
     "execution_count": 24,
     "metadata": {},
     "output_type": "execute_result"
    }
   ],
   "source": [
    "graph1.in_edges(3,form='all')[0]-30"
   ]
  },
  {
   "cell_type": "code",
   "execution_count": 25,
   "id": "3e89b1a0",
   "metadata": {},
   "outputs": [
    {
     "data": {
      "text/plain": [
       "array([['785', 'C', '14.6960', '-6.0380', '27.3280', 'C.2', '53',\n",
       "        'PHE227', '0.0000', 'BACKBONE|DICT|DIRECT'],\n",
       "       ['648', 'O', '17.4350', '-8.3620', '22.3110', 'O.2', '43',\n",
       "        'SER214', '0.0000', 'BACKBONE|DICT|DIRECT'],\n",
       "       ['656', 'N', '16.2040', '-8.5340', '24.2100', 'N.am', '44',\n",
       "        'TRP215', '0.0000', 'BACKBONE|DICT|DIRECT'],\n",
       "       ['657', 'CA', '16.0580', '-9.9940', '24.1870', 'C.3', '44',\n",
       "        'TRP215', '0.0000', 'BACKBONE|DICT|DIRECT'],\n",
       "       ['658', 'C', '14.8900', '-10.4570', '25.0670', 'C.2', '44',\n",
       "        'TRP215', '0.0000', 'BACKBONE|DICT|DIRECT'],\n",
       "       ['659', 'O', '14.4060', '-9.7000', '25.9070', 'O.2', '44',\n",
       "        'TRP215', '0.0000', 'BACKBONE|DICT|DIRECT'],\n",
       "       ['660', 'CB', '17.3830', '-10.6920', '24.5860', 'C.3', '44',\n",
       "        'TRP215', '0.0000', 'DICT'],\n",
       "       ['661', 'CG', '17.9640', '-10.3870', '25.9390', 'C.ar', '44',\n",
       "        'TRP215', '0.0000', 'DICT'],\n",
       "       ['663', 'CD2', '17.7220', '-11.0440', '27.2230', 'C.ar', '44',\n",
       "        'TRP215', '0.0000', 'DICT'],\n",
       "       ['666', 'CE3', '16.9230', '-12.1310', '27.6520', 'C.ar', '44',\n",
       "        'TRP215', '0.0000', 'DICT'],\n",
       "       ['680', 'N', '14.4810', '-11.7160', '24.8690', 'N.am', '45',\n",
       "        'GLY216', '0.0000', 'BACKBONE|DICT|DIRECT'],\n",
       "       ['681', 'CA', '13.4920', '-12.3910', '25.7000', 'C.3', '45',\n",
       "        'GLY216', '0.0000', 'BACKBONE|DICT|DIRECT'],\n",
       "       ['682', 'C', '13.6710', '-13.9000', '25.5000', 'C.2', '45',\n",
       "        'GLY216', '0.0000', 'BACKBONE|DICT|DIRECT'],\n",
       "       ['683', 'O', '14.0550', '-14.3510', '24.4180', 'O.2', '45',\n",
       "        'GLY216', '0.0000', 'BACKBONE|DICT|DIRECT'],\n",
       "       ['687', 'N', '13.3560', '-14.6790', '26.5470', 'N.am', '46',\n",
       "        'GLU217', '0.0000', 'BACKBONE|DICT|DIRECT']], dtype='<U20')"
      ]
     },
     "execution_count": 25,
     "metadata": {},
     "output_type": "execute_result"
    }
   ],
   "source": [
    "mol2_file_pock[[-28, 338, 341, 342, 343, 344, 345, 346, 348, 351, 355, 356, 357, 358,\n",
    "        359]]"
   ]
  },
  {
   "cell_type": "code",
   "execution_count": 26,
   "id": "505e2864",
   "metadata": {},
   "outputs": [
    {
     "data": {
      "text/plain": [
       "tensor([[0.1101],\n",
       "        [0.0660],\n",
       "        [0.0520],\n",
       "        [0.0745],\n",
       "        [0.0661],\n",
       "        [0.0658],\n",
       "        [0.0353],\n",
       "        [0.0553],\n",
       "        [0.0536],\n",
       "        [0.0428],\n",
       "        [0.1924],\n",
       "        [0.0482],\n",
       "        [0.0589],\n",
       "        [0.0328],\n",
       "        [0.0462]], grad_fn=<IndexBackward0>)"
      ]
     },
     "execution_count": 26,
     "metadata": {},
     "output_type": "execute_result"
    }
   ],
   "source": [
    "att2_processed[graph1.in_edges(3, form='all')[2]]"
   ]
  },
  {
   "cell_type": "code",
   "execution_count": null,
   "id": "feff4197",
   "metadata": {},
   "outputs": [],
   "source": []
  },
  {
   "cell_type": "code",
   "execution_count": null,
   "id": "7d8d272b",
   "metadata": {},
   "outputs": [],
   "source": []
  },
  {
   "cell_type": "code",
   "execution_count": null,
   "id": "8a42ee96",
   "metadata": {},
   "outputs": [],
   "source": []
  },
  {
   "cell_type": "code",
   "execution_count": null,
   "id": "be7e158d",
   "metadata": {},
   "outputs": [],
   "source": []
  },
  {
   "cell_type": "code",
   "execution_count": null,
   "id": "6435217f",
   "metadata": {},
   "outputs": [],
   "source": []
  }
 ],
 "metadata": {
  "kernelspec": {
   "display_name": "Python 3 (ipykernel)",
   "language": "python",
   "name": "python3"
  },
  "language_info": {
   "codemirror_mode": {
    "name": "ipython",
    "version": 3
   },
   "file_extension": ".py",
   "mimetype": "text/x-python",
   "name": "python",
   "nbconvert_exporter": "python",
   "pygments_lexer": "ipython3",
   "version": "3.7.11"
  }
 },
 "nbformat": 4,
 "nbformat_minor": 5
}
