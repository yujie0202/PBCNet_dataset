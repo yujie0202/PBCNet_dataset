{
 "cells": [
  {
   "cell_type": "code",
   "execution_count": 1,
   "id": "cc44cd6d",
   "metadata": {},
   "outputs": [],
   "source": [
    "import os\n",
    "code_path = os.path.dirname(os.path.abspath(\".\")).rsplit(\"/\",1)[0]\n",
    "import sys\n",
    "sys.path.append(code_path + '/model_code')\n",
    "\n",
    "import numpy as np\n",
    "import pandas as pd\n",
    "import torch\n",
    "from dgl.dataloading import GraphDataLoader\n",
    "from Dataloader.dataloader import LeadOptDataset\n",
    "from utilis.Interaction_atoms import GetAtomPairAndType,read_mol2_file_withoutH,read_mol2_file_H\n",
    "from utilis.utilis import pkl_load\n"
   ]
  },
  {
   "cell_type": "code",
   "execution_count": 2,
   "id": "d2c694ac",
   "metadata": {},
   "outputs": [],
   "source": [
    "ligand1_dir =f\"{code_path}/data/test_set_fep_graph_rmH_I/Jnk1/Jnk1_18660-1.pkl\"\n",
    "ligand2_dir =f\"{code_path}/data/test_set_fep_graph_rmH_I/Jnk1/Jnk1_18660-1.pkl\"\n",
    "pocket_dir = f\"{code_path}/data/test_set_fep_graph_rmH_I/Jnk1/pocket.pkl\"\n",
    "\n",
    "graph1 = pkl_load(ligand1_dir)\n",
    "graph2 = pkl_load(ligand2_dir)\n",
    "pock = pkl_load(pocket_dir)\n"
   ]
  },
  {
   "cell_type": "code",
   "execution_count": 3,
   "id": "c1501a35",
   "metadata": {},
   "outputs": [],
   "source": [
    "model = torch.load(f\"{code_path}/PBCNet.pth\",map_location=\"cpu\")"
   ]
  },
  {
   "cell_type": "code",
   "execution_count": null,
   "id": "ebd8d3f3",
   "metadata": {},
   "outputs": [],
   "source": []
  },
  {
   "cell_type": "code",
   "execution_count": 4,
   "id": "1fe49509",
   "metadata": {},
   "outputs": [],
   "source": [
    "logits,_,att1,att2= model(graph1,graph2, pock)\n"
   ]
  },
  {
   "cell_type": "code",
   "execution_count": 5,
   "id": "22ee6bd8",
   "metadata": {},
   "outputs": [
    {
     "data": {
      "text/plain": [
       "torch.Size([1476, 1])"
      ]
     },
     "execution_count": 5,
     "metadata": {},
     "output_type": "execute_result"
    }
   ],
   "source": [
    "att2_processed = att1.mean(dim=1)\n",
    "att2_processed.shape"
   ]
  },
  {
   "cell_type": "code",
   "execution_count": 6,
   "id": "eb866a51",
   "metadata": {},
   "outputs": [
    {
     "data": {
      "text/plain": [
       "torch.Size([1476, 1])"
      ]
     },
     "execution_count": 6,
     "metadata": {},
     "output_type": "execute_result"
    }
   ],
   "source": [
    "graph1.edata[\"attention_weight\"].shape"
   ]
  },
  {
   "cell_type": "code",
   "execution_count": 7,
   "id": "8ebf2d75",
   "metadata": {},
   "outputs": [
    {
     "data": {
      "text/plain": [
       "32"
      ]
     },
     "execution_count": 7,
     "metadata": {},
     "output_type": "execute_result"
    }
   ],
   "source": [
    "graph1.num_nodes()"
   ]
  },
  {
   "cell_type": "code",
   "execution_count": 8,
   "id": "6d7b00cc",
   "metadata": {},
   "outputs": [],
   "source": [
    "ligand1_dir =f\"{code_path}/data/test_set_fep_graph_rmH_I/Jnk1/Jnk1_18660-1.pkl\"\n",
    "ligand2_dir =f\"{code_path}/data/test_set_fep_graph_rmH_I/Jnk1/Jnk1_18660-1.pkl\"\n",
    "pocket_dir = f\"{code_path}/data/test_set_fep_graph_rmH_I/Jnk1/pocket.pkl\"\n",
    "\n",
    "graph1 = pkl_load(ligand1_dir)\n",
    "graph2 = pkl_load(ligand2_dir)\n",
    "pock = pkl_load(pocket_dir)"
   ]
  },
  {
   "cell_type": "code",
   "execution_count": 9,
   "id": "956c6f72",
   "metadata": {},
   "outputs": [
    {
     "data": {
      "text/plain": [
       "391"
      ]
     },
     "execution_count": 9,
     "metadata": {},
     "output_type": "execute_result"
    }
   ],
   "source": [
    "graph1.num_nodes()"
   ]
  },
  {
   "cell_type": "code",
   "execution_count": 10,
   "id": "28e4f943",
   "metadata": {
    "scrolled": false
   },
   "outputs": [
    {
     "data": {
      "text/plain": [
       "([[12, 'GLU109O'],\n",
       "  [18, 'MET111H'],\n",
       "  [24, 'ILE32CB'],\n",
       "  [25, 'ILE32CB'],\n",
       "  [24, 'ILE32CG2'],\n",
       "  [25, 'ILE32CG2'],\n",
       "  [13, 'VAL40CG2'],\n",
       "  [10, 'ALA53CB'],\n",
       "  [20, 'LEU110CD2'],\n",
       "  [27, 'LEU110CD2'],\n",
       "  [19, 'MET111CB'],\n",
       "  [0, 'LEU168CG'],\n",
       "  [13, 'LEU168CG'],\n",
       "  [13, 'LEU168CD1'],\n",
       "  [0, 'LEU168CD2'],\n",
       "  [4, 'LEU168CD2'],\n",
       "  [13, 'LEU168CD2'],\n",
       "  [0, 'ASP169CB']],\n",
       " ['Hbond',\n",
       "  'Hbond',\n",
       "  'HPhob',\n",
       "  'HPhob',\n",
       "  'HPhob',\n",
       "  'HPhob',\n",
       "  'HPhob',\n",
       "  'HPhob',\n",
       "  'HPhob',\n",
       "  'HPhob',\n",
       "  'HPhob',\n",
       "  'HPhob',\n",
       "  'HPhob',\n",
       "  'HPhob',\n",
       "  'HPhob',\n",
       "  'HPhob',\n",
       "  'HPhob',\n",
       "  'HPhob'])"
      ]
     },
     "execution_count": 10,
     "metadata": {},
     "output_type": "execute_result"
    }
   ],
   "source": [
    "GetAtomPairAndType(f\"{code_path}/data/FEP1/Jnk1/Jnk1_18660-1.sdf\")"
   ]
  },
  {
   "cell_type": "code",
   "execution_count": 11,
   "id": "fce27b4d",
   "metadata": {},
   "outputs": [],
   "source": [
    "mol2_file_pock = read_mol2_file_withoutH(f\"{code_path}/data/FEP1//Jnk1/pocket.mol2\")"
   ]
  },
  {
   "cell_type": "code",
   "execution_count": null,
   "id": "a9c877ac",
   "metadata": {},
   "outputs": [],
   "source": []
  },
  {
   "cell_type": "markdown",
   "id": "ba9d02c4",
   "metadata": {},
   "source": [
    "# 12-position"
   ]
  },
  {
   "cell_type": "code",
   "execution_count": 12,
   "id": "6311af9d",
   "metadata": {},
   "outputs": [
    {
     "data": {
      "text/plain": [
       "(tensor([ 11, 102, 135, 137, 138, 178, 180, 202, 204, 205, 206, 207, 208, 210,\n",
       "         211, 368, 369]),\n",
       " tensor([12, 12, 12, 12, 12, 12, 12, 12, 12, 12, 12, 12, 12, 12, 12, 12, 12]),\n",
       " tensor([  26,  976,  988,  990,  998, 1018, 1024, 1026, 1028, 1032, 1040, 1048,\n",
       "         1054, 1058, 1064, 1404, 1428]))"
      ]
     },
     "execution_count": 12,
     "metadata": {},
     "output_type": "execute_result"
    }
   ],
   "source": [
    "graph1.in_edges(12, form='all')"
   ]
  },
  {
   "cell_type": "code",
   "execution_count": 13,
   "id": "bbdbf482",
   "metadata": {},
   "outputs": [
    {
     "data": {
      "text/plain": [
       "tensor([-21,  70, 103, 105, 106, 146, 148, 170, 172, 173, 174, 175, 176, 178,\n",
       "        179, 336, 337])"
      ]
     },
     "execution_count": 13,
     "metadata": {},
     "output_type": "execute_result"
    }
   ],
   "source": [
    "graph1.in_edges(12,form='all')[0]-32"
   ]
  },
  {
   "cell_type": "code",
   "execution_count": 14,
   "id": "1eb61aed",
   "metadata": {},
   "outputs": [
    {
     "data": {
      "text/plain": [
       "17"
      ]
     },
     "execution_count": 14,
     "metadata": {},
     "output_type": "execute_result"
    }
   ],
   "source": [
    "len(graph1.in_edges(12,form='all')[0])"
   ]
  },
  {
   "cell_type": "code",
   "execution_count": 15,
   "id": "4c0ff4db",
   "metadata": {},
   "outputs": [
    {
     "data": {
      "text/plain": [
       "array([['25', 'C', '29.2120', '7.7870', '35.5650', 'C.2', '2', 'PRO31',\n",
       "        '0.0000', 'BACKBONE|DICT|DIRECT'],\n",
       "       ['140', 'CG2', '22.5120', '10.9090', '35.7890', 'C.3', '11',\n",
       "        'VAL40', '0.0000', 'DICT'],\n",
       "       ['212', 'CA', '20.0380', '7.8230', '37.8160', 'C.3', '17',\n",
       "        'ALA53', '0.0000', 'BACKBONE|DICT|DIRECT'],\n",
       "       ['214', 'O', '18.8010', '9.7390', '38.4990', 'O.2', '17', 'ALA53',\n",
       "        '0.0000', 'BACKBONE|DICT|DIRECT'],\n",
       "       ['215', 'CB', '19.7940', '8.1240', '36.3290', 'C.3', '17',\n",
       "        'ALA53', '0.0000', 'DICT'],\n",
       "       ['299', 'CG1', '13.9020', '8.3600', '32.1460', 'C.3', '22',\n",
       "        'ILE86', '0.0000', 'DICT'],\n",
       "       ['301', 'CD1', '15.4250', '8.2380', '32.0060', 'C.3', '22',\n",
       "        'ILE86', '0.0000', 'DICT'],\n",
       "       ['357', 'C', '15.3330', '7.7140', '37.2480', 'C.2', '26',\n",
       "        'MET108', '0.0000', 'BACKBONE|DICT|DIRECT'],\n",
       "       ['359', 'CB', '15.0160', '10.1770', '36.4910', 'C.3', '26',\n",
       "        'MET108', '0.0000', 'DICT'],\n",
       "       ['360', 'CG', '16.4390', '10.4760', '35.9810', 'C.3', '26',\n",
       "        'MET108', '0.0000', 'DICT'],\n",
       "       ['361', 'SD', '16.5290', '11.6910', '34.6360', 'S.3', '26',\n",
       "        'MET108', '0.0000', 'DICT'],\n",
       "       ['362', 'CE', '16.2190', '13.2270', '35.5460', 'C.3', '26',\n",
       "        'MET108', '0.0000', 'DICT'],\n",
       "       ['372', 'N', '14.6300', '7.1320', '36.2630', 'N.am', '27',\n",
       "        'GLU109', '0.0000', 'BACKBONE|DICT|DIRECT'],\n",
       "       ['374', 'C', '16.3240', '5.7190', '35.0700', 'C.2', '27',\n",
       "        'GLU109', '0.0000', 'BACKBONE|DICT|DIRECT'],\n",
       "       ['375', 'O', '16.9270', '6.7460', '34.7530', 'O.2', '27',\n",
       "        'GLU109', '0.0000', 'BACKBONE|DICT|DIRECT'],\n",
       "       ['698', 'CG', '18.0870', '11.6130', '29.3660', 'C.3', '47',\n",
       "        'LEU168', '0.0000', 'DICT'],\n",
       "       ['699', 'CD1', '17.2940', '10.7510', '30.3660', 'C.3', '47',\n",
       "        'LEU168', '0.0000', 'DICT']], dtype='<U20')"
      ]
     },
     "execution_count": 15,
     "metadata": {},
     "output_type": "execute_result"
    }
   ],
   "source": [
    "mol2_file_pock[[11,  70, 103, 105, 106, 146, 148, 170, 172, 173, 174, 175, 176, 178,\n",
    "        179, 336, 337]]"
   ]
  },
  {
   "cell_type": "code",
   "execution_count": 16,
   "id": "b471a51e",
   "metadata": {
    "scrolled": true
   },
   "outputs": [
    {
     "data": {
      "text/plain": [
       "tensor([[0.1209],\n",
       "        [0.0635],\n",
       "        [0.0555],\n",
       "        [0.0683],\n",
       "        [0.0242],\n",
       "        [0.0564],\n",
       "        [0.0673],\n",
       "        [0.0667],\n",
       "        [0.0479],\n",
       "        [0.0114],\n",
       "        [0.0312],\n",
       "        [0.0541],\n",
       "        [0.0603],\n",
       "        [0.0406],\n",
       "        [0.1084],\n",
       "        [0.0633],\n",
       "        [0.0601]], grad_fn=<IndexBackward0>)"
      ]
     },
     "execution_count": 16,
     "metadata": {},
     "output_type": "execute_result"
    }
   ],
   "source": [
    "att2_processed[graph1.in_edges(12, form='all')[2]]"
   ]
  },
  {
   "cell_type": "code",
   "execution_count": null,
   "id": "171d2496",
   "metadata": {},
   "outputs": [],
   "source": []
  },
  {
   "cell_type": "markdown",
   "id": "9f686b29",
   "metadata": {},
   "source": [
    "# 18-position"
   ]
  },
  {
   "cell_type": "code",
   "execution_count": 17,
   "id": "d2a4f924",
   "metadata": {},
   "outputs": [
    {
     "data": {
      "text/plain": [
       "(tensor([ 17, 211, 217, 218, 219, 220, 221, 222, 224, 225, 226, 227, 228, 229,\n",
       "         230, 233, 244, 327, 328, 329]),\n",
       " tensor([18, 18, 18, 18, 18, 18, 18, 18, 18, 18, 18, 18, 18, 18, 18, 18, 18, 18,\n",
       "         18, 18]),\n",
       " tensor([  36, 1066, 1068, 1074, 1078, 1080, 1086, 1096, 1118, 1140, 1150, 1158,\n",
       "         1170, 1186, 1192, 1198, 1290, 1364, 1378, 1388]))"
      ]
     },
     "execution_count": 17,
     "metadata": {},
     "output_type": "execute_result"
    }
   ],
   "source": [
    "graph1.in_edges(18, form='all')"
   ]
  },
  {
   "cell_type": "code",
   "execution_count": 18,
   "id": "42024f86",
   "metadata": {},
   "outputs": [
    {
     "data": {
      "text/plain": [
       "tensor([-15, 179, 185, 186, 187, 188, 189, 190, 192, 193, 194, 195, 196, 197,\n",
       "        198, 201, 212, 295, 296, 297])"
      ]
     },
     "execution_count": 18,
     "metadata": {},
     "output_type": "execute_result"
    }
   ],
   "source": [
    "graph1.in_edges(18,form='all')[0]-32"
   ]
  },
  {
   "cell_type": "code",
   "execution_count": 19,
   "id": "9a2a7528",
   "metadata": {},
   "outputs": [
    {
     "data": {
      "text/plain": [
       "20"
      ]
     },
     "execution_count": 19,
     "metadata": {},
     "output_type": "execute_result"
    }
   ],
   "source": [
    "len(graph1.in_edges(18,form='all')[0])"
   ]
  },
  {
   "cell_type": "code",
   "execution_count": 20,
   "id": "3b8a2efa",
   "metadata": {},
   "outputs": [
    {
     "data": {
      "text/plain": [
       "array([['38', 'CA', '27.6520', '7.7590', '33.6350', 'C.3', '3', 'ILE32',\n",
       "        '0.0000', 'BACKBONE|DICT|DIRECT'],\n",
       "       ['375', 'O', '16.9270', '6.7460', '34.7530', 'O.2', '27',\n",
       "        'GLU109', '0.0000', 'BACKBONE|DICT|DIRECT'],\n",
       "       ['387', 'N', '16.8030', '4.4820', '34.8780', 'N.am', '28',\n",
       "        'LEU110', '0.0000', 'BACKBONE|DICT|DIRECT'],\n",
       "       ['388', 'CA', '18.1070', '4.2020', '34.2890', 'C.3', '28',\n",
       "        'LEU110', '0.0000', 'BACKBONE|DICT|DIRECT'],\n",
       "       ['389', 'C', '17.9850', '2.9390', '33.4290', 'C.2', '28',\n",
       "        'LEU110', '0.0000', 'BACKBONE|DICT|DIRECT'],\n",
       "       ['390', 'O', '17.5810', '1.8930', '33.9370', 'O.2', '28',\n",
       "        'LEU110', '0.0000', 'BACKBONE|DICT|DIRECT'],\n",
       "       ['391', 'CB', '19.1510', '4.1040', '35.4240', 'C.3', '28',\n",
       "        'LEU110', '0.0000', 'DICT'],\n",
       "       ['392', 'CG', '20.6290', '4.1710', '34.9800', 'C.3', '28',\n",
       "        'LEU110', '0.0000', 'DICT'],\n",
       "       ['394', 'CD2', '21.1540', '2.8560', '34.3760', 'C.3', '28',\n",
       "        'LEU110', '0.0000', 'DICT'],\n",
       "       ['406', 'N', '18.3330', '3.0810', '32.1400', 'N.am', '29',\n",
       "        'MET111', '0.0000', 'BACKBONE|DICT|DIRECT'],\n",
       "       ['407', 'CA', '18.2800', '2.0340', '31.1160', 'C.3', '29',\n",
       "        'MET111', '0.0000', 'BACKBONE|DICT|DIRECT'],\n",
       "       ['408', 'C', '19.5280', '1.1260', '31.1720', 'C.2', '29',\n",
       "        'MET111', '0.0000', 'BACKBONE|DICT|DIRECT'],\n",
       "       ['409', 'O', '20.0130', '0.8290', '32.2630', 'O.2', '29',\n",
       "        'MET111', '0.0000', 'BACKBONE|DICT|DIRECT'],\n",
       "       ['410', 'CB', '18.0560', '2.6960', '29.7320', 'C.3', '29',\n",
       "        'MET111', '0.0000', 'DICT'],\n",
       "       ['411', 'CG', '16.7980', '3.5720', '29.6350', 'C.3', '29',\n",
       "        'MET111', '0.0000', 'DICT'],\n",
       "       ['423', 'N', '20.0140', '0.6760', '30.0040', 'N.am', '30',\n",
       "        'ASP112', '0.0000', 'BACKBONE|DICT|DIRECT'],\n",
       "       ['438', 'O', '20.9830', '3.6250', '26.8760', 'O.2', '31',\n",
       "        'ALA113', '0.0000', 'BACKBONE|DICT|DIRECT'],\n",
       "       ['602', 'CB', '18.5470', '6.1490', '27.4210', 'C.3', '42',\n",
       "        'VAL158', '0.0000', 'DICT'],\n",
       "       ['603', 'CG1', '19.7360', '7.0390', '27.8180', 'C.3', '42',\n",
       "        'VAL158', '0.0000', 'DICT'],\n",
       "       ['604', 'CG2', '17.2410', '6.7550', '27.9790', 'C.3', '42',\n",
       "        'VAL158', '0.0000', 'DICT']], dtype='<U20')"
      ]
     },
     "execution_count": 20,
     "metadata": {},
     "output_type": "execute_result"
    }
   ],
   "source": [
    "mol2_file_pock[[17, 179, 185, 186, 187, 188, 189, 190, 192, 193, 194, 195, 196, 197,\n",
    "        198, 201, 212, 295, 296, 297]]\n"
   ]
  },
  {
   "cell_type": "code",
   "execution_count": 21,
   "id": "7277f7b1",
   "metadata": {},
   "outputs": [
    {
     "data": {
      "text/plain": [
       "tensor([[0.0794],\n",
       "        [0.0316],\n",
       "        [0.0409],\n",
       "        [0.0430],\n",
       "        [0.0714],\n",
       "        [0.0422],\n",
       "        [0.0289],\n",
       "        [0.0358],\n",
       "        [0.0316],\n",
       "        [0.2104],\n",
       "        [0.0435],\n",
       "        [0.0305],\n",
       "        [0.0286],\n",
       "        [0.0549],\n",
       "        [0.0425],\n",
       "        [0.0365],\n",
       "        [0.0486],\n",
       "        [0.0349],\n",
       "        [0.0364],\n",
       "        [0.0284]], grad_fn=<IndexBackward0>)"
      ]
     },
     "execution_count": 21,
     "metadata": {},
     "output_type": "execute_result"
    }
   ],
   "source": [
    "att2_processed[graph1.in_edges(18, form='all')[2]]"
   ]
  },
  {
   "cell_type": "code",
   "execution_count": null,
   "id": "ed5ba26d",
   "metadata": {},
   "outputs": [],
   "source": []
  },
  {
   "cell_type": "markdown",
   "id": "6cf68b74",
   "metadata": {},
   "source": [
    "# 5-position"
   ]
  },
  {
   "cell_type": "code",
   "execution_count": 22,
   "id": "1c3ddd98",
   "metadata": {},
   "outputs": [
    {
     "data": {
      "text/plain": [
       "(tensor([  4,   6,  53,  55,  57, 101, 304, 370]),\n",
       " tensor([5, 5, 5, 5, 5, 5, 5, 5]),\n",
       " tensor([   8,   11,  830,  864,  902,  952, 1342, 1444]))"
      ]
     },
     "execution_count": 22,
     "metadata": {},
     "output_type": "execute_result"
    }
   ],
   "source": [
    "graph1.in_edges(5, form='all')"
   ]
  },
  {
   "cell_type": "code",
   "execution_count": 23,
   "id": "be7e158d",
   "metadata": {},
   "outputs": [
    {
     "data": {
      "text/plain": [
       "tensor([-28, -26,  21,  23,  25,  69, 272, 338])"
      ]
     },
     "execution_count": 23,
     "metadata": {},
     "output_type": "execute_result"
    }
   ],
   "source": [
    "graph1.in_edges(5,form='all')[0]-32"
   ]
  },
  {
   "cell_type": "code",
   "execution_count": 24,
   "id": "6435217f",
   "metadata": {},
   "outputs": [
    {
     "data": {
      "text/plain": [
       "8"
      ]
     },
     "execution_count": 24,
     "metadata": {},
     "output_type": "execute_result"
    }
   ],
   "source": [
    "len(graph1.in_edges(5,form='all')[0])"
   ]
  },
  {
   "cell_type": "code",
   "execution_count": 25,
   "id": "b2da4fab",
   "metadata": {},
   "outputs": [
    {
     "data": {
      "text/plain": [
       "array([['681', 'CD1', '12.5760', '10.5960', '22.6580', 'C.3', '46',\n",
       "        'ILE167', '0.0000', 'DICT'],\n",
       "       ['694', 'CA', '15.8840', '12.4220', '28.1260', 'C.3', '47',\n",
       "        'LEU168', '0.0000', 'BACKBONE|DICT|DIRECT'],\n",
       "       ['42', 'CG1', '25.1090', '8.1920', '34.0700', 'C.3', '3', 'ILE32',\n",
       "        '0.0000', 'DICT'],\n",
       "       ['44', 'CD1', '23.6790', '7.6360', '34.0330', 'C.3', '3', 'ILE32',\n",
       "        '0.0000', 'DICT'],\n",
       "       ['57', 'CA', '27.8760', '11.2850', '32.1250', 'C.3', '4', 'GLY33',\n",
       "        '0.0000', 'BACKBONE|DICT|DIRECT'],\n",
       "       ['139', 'CG1', '24.1320', '11.9280', '34.1360', 'C.3', '11',\n",
       "        'VAL40', '0.0000', 'DICT'],\n",
       "       ['557', 'O', '22.7370', '11.9420', '26.1180', 'O.2', '39',\n",
       "        'SER155', '0.0000', 'BACKBONE|DICT|DIRECT'],\n",
       "       ['700', 'CD2', '19.4750', '11.0020', '29.0780', 'C.3', '47',\n",
       "        'LEU168', '0.0000', 'DICT']], dtype='<U20')"
      ]
     },
     "execution_count": 25,
     "metadata": {},
     "output_type": "execute_result"
    }
   ],
   "source": [
    "mol2_file_pock[[-28, -26,  21,  23,  25,  69, 272, 338]]"
   ]
  },
  {
   "cell_type": "code",
   "execution_count": 26,
   "id": "cec69974",
   "metadata": {},
   "outputs": [
    {
     "data": {
      "text/plain": [
       "tensor([[0.1868],\n",
       "        [0.1931],\n",
       "        [0.0971],\n",
       "        [0.0960],\n",
       "        [0.1061],\n",
       "        [0.1171],\n",
       "        [0.0871],\n",
       "        [0.1167]], grad_fn=<IndexBackward0>)"
      ]
     },
     "execution_count": 26,
     "metadata": {},
     "output_type": "execute_result"
    }
   ],
   "source": [
    "att2_processed[graph1.in_edges(5, form='all')[2]]"
   ]
  },
  {
   "cell_type": "code",
   "execution_count": null,
   "id": "4a228697",
   "metadata": {},
   "outputs": [],
   "source": []
  }
 ],
 "metadata": {
  "kernelspec": {
   "display_name": "Python 3 (ipykernel)",
   "language": "python",
   "name": "python3"
  },
  "language_info": {
   "codemirror_mode": {
    "name": "ipython",
    "version": 3
   },
   "file_extension": ".py",
   "mimetype": "text/x-python",
   "name": "python",
   "nbconvert_exporter": "python",
   "pygments_lexer": "ipython3",
   "version": "3.7.11"
  }
 },
 "nbformat": 4,
 "nbformat_minor": 5
}
